{
 "cells": [
  {
   "cell_type": "code",
   "execution_count": 1,
   "id": "ae6ef0bf-514c-42af-a31d-68a8fad96a6c",
   "metadata": {},
   "outputs": [
    {
     "name": "stdout",
     "output_type": "stream",
     "text": [
      "Collecting sounddevice\n",
      "  Downloading sounddevice-0.5.2-py3-none-win_amd64.whl.metadata (1.6 kB)\n",
      "Requirement already satisfied: CFFI>=1.0 in c:\\users\\inpixon\\anaconda3\\lib\\site-packages (from sounddevice) (1.17.1)\n",
      "Requirement already satisfied: pycparser in c:\\users\\inpixon\\anaconda3\\lib\\site-packages (from CFFI>=1.0->sounddevice) (2.21)\n",
      "Downloading sounddevice-0.5.2-py3-none-win_amd64.whl (363 kB)\n",
      "Installing collected packages: sounddevice\n",
      "Successfully installed sounddevice-0.5.2\n",
      "Note: you may need to restart the kernel to use updated packages.\n"
     ]
    }
   ],
   "source": [
    "pip install sounddevice"
   ]
  },
  {
   "cell_type": "code",
   "execution_count": 3,
   "id": "b40714ff-0198-41be-ac2b-a87600cfe23c",
   "metadata": {},
   "outputs": [
    {
     "name": "stdout",
     "output_type": "stream",
     "text": [
      "Collecting wavio\n",
      "  Downloading wavio-0.0.9-py3-none-any.whl.metadata (5.7 kB)\n",
      "Requirement already satisfied: numpy>=1.19.0 in c:\\users\\inpixon\\anaconda3\\lib\\site-packages (from wavio) (1.26.4)\n",
      "Downloading wavio-0.0.9-py3-none-any.whl (9.5 kB)\n",
      "Installing collected packages: wavio\n",
      "Successfully installed wavio-0.0.9\n",
      "Note: you may need to restart the kernel to use updated packages.\n"
     ]
    }
   ],
   "source": [
    "pip install wavio"
   ]
  },
  {
   "cell_type": "code",
   "execution_count": 4,
   "id": "0ed6b6e0-0461-4a13-af33-43364e1686c6",
   "metadata": {},
   "outputs": [
    {
     "name": "stdout",
     "output_type": "stream",
     "text": [
      "Requirement already satisfied: scipy in c:\\users\\inpixon\\anaconda3\\lib\\site-packages (1.13.1)\n",
      "Requirement already satisfied: numpy<2.3,>=1.22.4 in c:\\users\\inpixon\\anaconda3\\lib\\site-packages (from scipy) (1.26.4)\n",
      "Note: you may need to restart the kernel to use updated packages.\n"
     ]
    }
   ],
   "source": [
    "pip install scipy"
   ]
  },
  {
   "cell_type": "code",
   "execution_count": 1,
   "id": "73192065-3b4c-490f-b4e1-0911d643cc8e",
   "metadata": {},
   "outputs": [
    {
     "name": "stdout",
     "output_type": "stream",
     "text": [
      "Collecting SpeechRecognition\n",
      "  Downloading speechrecognition-3.14.3-py3-none-any.whl.metadata (30 kB)\n",
      "Requirement already satisfied: typing-extensions in c:\\users\\inpixon\\anaconda3\\lib\\site-packages (from SpeechRecognition) (4.11.0)\n",
      "Downloading speechrecognition-3.14.3-py3-none-any.whl (32.9 MB)\n",
      "   ---------------------------------------- 0.0/32.9 MB ? eta -:--:--\n",
      "   - -------------------------------------- 1.0/32.9 MB 5.6 MB/s eta 0:00:06\n",
      "   --- ------------------------------------ 2.6/32.9 MB 6.3 MB/s eta 0:00:05\n",
      "   ---- ----------------------------------- 3.7/32.9 MB 6.1 MB/s eta 0:00:05\n",
      "   ------ --------------------------------- 5.2/32.9 MB 6.4 MB/s eta 0:00:05\n",
      "   -------- ------------------------------- 6.8/32.9 MB 6.7 MB/s eta 0:00:04\n",
      "   ---------- ----------------------------- 8.4/32.9 MB 6.8 MB/s eta 0:00:04\n",
      "   ------------ --------------------------- 10.0/32.9 MB 6.9 MB/s eta 0:00:04\n",
      "   -------------- ------------------------- 11.8/32.9 MB 7.0 MB/s eta 0:00:03\n",
      "   ---------------- ----------------------- 13.4/32.9 MB 7.2 MB/s eta 0:00:03\n",
      "   ------------------ --------------------- 15.2/32.9 MB 7.2 MB/s eta 0:00:03\n",
      "   -------------------- ------------------- 16.8/32.9 MB 7.3 MB/s eta 0:00:03\n",
      "   ---------------------- ----------------- 18.1/32.9 MB 7.3 MB/s eta 0:00:03\n",
      "   ----------------------- ---------------- 19.4/32.9 MB 7.1 MB/s eta 0:00:02\n",
      "   ------------------------ --------------- 20.4/32.9 MB 6.9 MB/s eta 0:00:02\n",
      "   -------------------------- ------------- 21.5/32.9 MB 6.8 MB/s eta 0:00:02\n",
      "   --------------------------- ------------ 22.5/32.9 MB 6.7 MB/s eta 0:00:02\n",
      "   ---------------------------- ----------- 23.6/32.9 MB 6.6 MB/s eta 0:00:02\n",
      "   ------------------------------ --------- 24.6/32.9 MB 6.5 MB/s eta 0:00:02\n",
      "   ------------------------------- -------- 26.0/32.9 MB 6.4 MB/s eta 0:00:02\n",
      "   --------------------------------- ------ 27.3/32.9 MB 6.4 MB/s eta 0:00:01\n",
      "   ----------------------------------- ---- 29.1/32.9 MB 6.5 MB/s eta 0:00:01\n",
      "   ------------------------------------- -- 31.2/32.9 MB 6.6 MB/s eta 0:00:01\n",
      "   ---------------------------------------  32.8/32.9 MB 6.7 MB/s eta 0:00:01\n",
      "   ---------------------------------------- 32.9/32.9 MB 6.5 MB/s eta 0:00:00\n",
      "Installing collected packages: SpeechRecognition\n",
      "Successfully installed SpeechRecognition-3.14.3\n",
      "Note: you may need to restart the kernel to use updated packages.\n"
     ]
    }
   ],
   "source": [
    "pip install SpeechRecognition"
   ]
  },
  {
   "cell_type": "code",
   "execution_count": 1,
   "id": "a72b6450-e3a8-49a2-93ca-222962d1f85a",
   "metadata": {},
   "outputs": [
    {
     "name": "stdout",
     "output_type": "stream",
     "text": [
      "Collecting pymongo\n",
      "  Downloading pymongo-4.13.0-cp312-cp312-win_amd64.whl.metadata (22 kB)\n",
      "Collecting dnspython<3.0.0,>=1.16.0 (from pymongo)\n",
      "  Downloading dnspython-2.7.0-py3-none-any.whl.metadata (5.8 kB)\n",
      "Downloading pymongo-4.13.0-cp312-cp312-win_amd64.whl (898 kB)\n",
      "   ---------------------------------------- 0.0/898.7 kB ? eta -:--:--\n",
      "   ----------------------- ---------------- 524.3/898.7 kB 3.4 MB/s eta 0:00:01\n",
      "   ---------------------------------------- 898.7/898.7 kB 3.1 MB/s eta 0:00:00\n",
      "Downloading dnspython-2.7.0-py3-none-any.whl (313 kB)\n",
      "Installing collected packages: dnspython, pymongo\n",
      "Successfully installed dnspython-2.7.0 pymongo-4.13.0\n",
      "Note: you may need to restart the kernel to use updated packages.\n"
     ]
    }
   ],
   "source": [
    "pip install pymongo"
   ]
  },
  {
   "cell_type": "code",
   "execution_count": 2,
   "id": "d76aeeb6-4a52-45d0-b689-2268911ff004",
   "metadata": {},
   "outputs": [
    {
     "name": "stdout",
     "output_type": "stream",
     "text": [
      "Collecting PyAudio\n",
      "  Downloading PyAudio-0.2.14-cp312-cp312-win_amd64.whl.metadata (2.7 kB)\n",
      "Downloading PyAudio-0.2.14-cp312-cp312-win_amd64.whl (164 kB)\n",
      "Installing collected packages: PyAudio\n",
      "Successfully installed PyAudio-0.2.14\n",
      "Note: you may need to restart the kernel to use updated packages.\n"
     ]
    }
   ],
   "source": [
    "pip install PyAudio"
   ]
  },
  {
   "cell_type": "code",
   "execution_count": 2,
   "id": "61a57d9c-a5d0-4a25-8c9b-58d68b22697d",
   "metadata": {},
   "outputs": [
    {
     "name": "stdout",
     "output_type": "stream",
     "text": [
      "Talk\n",
      "Time over, thanks\n",
      "Text: hello mike test 1 2 3 4 5\n"
     ]
    }
   ],
   "source": [
    "import speech_recognition as sr\n",
    "\n",
    "# Initialize recognizer class (for recognizing the speech)\n",
    "r = sr.Recognizer()\n",
    "\n",
    "# Reading Microphone as source\n",
    "# listening the speech and store in audio_text variable\n",
    "with sr.Microphone() as source:\n",
    "    print(\"Talk\")\n",
    "    audio_text = r.listen(source)\n",
    "    print(\"Time over, thanks\")\n",
    "    # recoginze_() method will throw a request\n",
    "    # error if the API is unreachable,\n",
    "    # hence using exception handling\n",
    "    \n",
    "    try:\n",
    "        # using google speech recognition\n",
    "        print(\"Text: \"+r.recognize_google(audio_text))\n",
    "    except:\n",
    "         print(\"Sorry, I did not get that\")"
   ]
  },
  {
   "cell_type": "code",
   "execution_count": 3,
   "id": "00663df6-7ebe-4c20-a24d-07ecf8ff63f6",
   "metadata": {},
   "outputs": [],
   "source": [
    "# import required libraries\n",
    "import sounddevice as sd\n",
    "from scipy.io.wavfile import write\n",
    "import wavio as wv\n",
    "\n",
    "# Sampling frequency\n",
    "freq = 44100\n",
    "\n",
    "# Recording duration\n",
    "duration = 5\n",
    "\n",
    "# Start recorder with the given values \n",
    "# of duration and sample frequency\n",
    "recording = sd.rec(int(duration * freq), \n",
    "                   samplerate=freq, channels=2)\n",
    "\n",
    "# Record audio for the given number of seconds\n",
    "sd.wait()\n",
    "\n",
    "# This will convert the NumPy array to an audio\n",
    "# file with the given sampling frequency\n",
    "write(\"audio.xlsx\", freq, recording)"
   ]
  },
  {
   "cell_type": "code",
   "execution_count": null,
   "id": "2960a9b3-a219-46f3-bddb-d20007c5f7b4",
   "metadata": {},
   "outputs": [],
   "source": []
  }
 ],
 "metadata": {
  "kernelspec": {
   "display_name": "Python 3 (ipykernel)",
   "language": "python",
   "name": "python3"
  },
  "language_info": {
   "codemirror_mode": {
    "name": "ipython",
    "version": 3
   },
   "file_extension": ".py",
   "mimetype": "text/x-python",
   "name": "python",
   "nbconvert_exporter": "python",
   "pygments_lexer": "ipython3",
   "version": "3.12.7"
  }
 },
 "nbformat": 4,
 "nbformat_minor": 5
}
