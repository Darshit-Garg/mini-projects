{
 "cells": [
  {
   "cell_type": "code",
   "execution_count": 1,
   "id": "137b1f9a-9d45-4a28-b948-5e67be972508",
   "metadata": {},
   "outputs": [],
   "source": [
    "import turtle\n",
    "colors = [\"red\",\"blue\",\"yellow\",\"green\",\"purple\",\"orange\"]\n",
    "#turtle.reset()\n",
    "turtle.tracer(0,0)\n",
    "for i in range(20):\n",
    "    turtle.color(colors[i%6])\n",
    "    turtle.pendown()\n",
    "    turtle.forward(2+i*5)\n",
    "    turtle.left(45)\n",
    "    turtle.width(i)\n",
    "    turtle.penup()\n",
    "    turtle.update()\n"
   ]
  },
  {
   "cell_type": "code",
   "execution_count": null,
   "id": "b9dd017e-dda2-4136-9d7a-09ca87fe0475",
   "metadata": {},
   "outputs": [],
   "source": []
  }
 ],
 "metadata": {
  "kernelspec": {
   "display_name": "Python 3 (ipykernel)",
   "language": "python",
   "name": "python3"
  },
  "language_info": {
   "codemirror_mode": {
    "name": "ipython",
    "version": 3
   },
   "file_extension": ".py",
   "mimetype": "text/x-python",
   "name": "python",
   "nbconvert_exporter": "python",
   "pygments_lexer": "ipython3",
   "version": "3.12.7"
  }
 },
 "nbformat": 4,
 "nbformat_minor": 5
}
