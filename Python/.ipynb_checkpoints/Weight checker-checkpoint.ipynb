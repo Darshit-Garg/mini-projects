{
 "cells": [
  {
   "cell_type": "code",
   "execution_count": 7,
   "id": "6b0b2801-4c45-4c71-bb06-e33d3d70ea4e",
   "metadata": {},
   "outputs": [
    {
     "name": "stdout",
     "output_type": "stream",
     "text": [
      "Requirement already satisfied: datetime in c:\\users\\inpixon\\anaconda3\\lib\\site-packages (5.5)\n",
      "Requirement already satisfied: zope.interface in c:\\users\\inpixon\\anaconda3\\lib\\site-packages (from datetime) (5.4.0)\n",
      "Requirement already satisfied: pytz in c:\\users\\inpixon\\anaconda3\\lib\\site-packages (from datetime) (2024.1)\n",
      "Requirement already satisfied: setuptools in c:\\users\\inpixon\\anaconda3\\lib\\site-packages (from zope.interface->datetime) (75.1.0)\n",
      "Note: you may need to restart the kernel to use updated packages.\n"
     ]
    }
   ],
   "source": [
    "pip install datetime"
   ]
  },
  {
   "cell_type": "code",
   "execution_count": 6,
   "id": "64070ee9-fd57-4a8c-8fa2-d9483463b8ea",
   "metadata": {},
   "outputs": [
    {
     "name": "stdout",
     "output_type": "stream",
     "text": [
      "Requirement already satisfied: matplotlib in c:\\users\\inpixon\\anaconda3\\lib\\site-packages (3.9.2)\n",
      "Requirement already satisfied: contourpy>=1.0.1 in c:\\users\\inpixon\\anaconda3\\lib\\site-packages (from matplotlib) (1.2.0)\n",
      "Requirement already satisfied: cycler>=0.10 in c:\\users\\inpixon\\anaconda3\\lib\\site-packages (from matplotlib) (0.11.0)\n",
      "Requirement already satisfied: fonttools>=4.22.0 in c:\\users\\inpixon\\anaconda3\\lib\\site-packages (from matplotlib) (4.51.0)\n",
      "Requirement already satisfied: kiwisolver>=1.3.1 in c:\\users\\inpixon\\anaconda3\\lib\\site-packages (from matplotlib) (1.4.4)\n",
      "Requirement already satisfied: numpy>=1.23 in c:\\users\\inpixon\\anaconda3\\lib\\site-packages (from matplotlib) (1.26.4)\n",
      "Requirement already satisfied: packaging>=20.0 in c:\\users\\inpixon\\anaconda3\\lib\\site-packages (from matplotlib) (24.1)\n",
      "Requirement already satisfied: pillow>=8 in c:\\users\\inpixon\\anaconda3\\lib\\site-packages (from matplotlib) (10.4.0)\n",
      "Requirement already satisfied: pyparsing>=2.3.1 in c:\\users\\inpixon\\anaconda3\\lib\\site-packages (from matplotlib) (3.1.2)\n",
      "Requirement already satisfied: python-dateutil>=2.7 in c:\\users\\inpixon\\anaconda3\\lib\\site-packages (from matplotlib) (2.9.0.post0)\n",
      "Requirement already satisfied: six>=1.5 in c:\\users\\inpixon\\anaconda3\\lib\\site-packages (from python-dateutil>=2.7->matplotlib) (1.16.0)\n",
      "Note: you may need to restart the kernel to use updated packages.\n"
     ]
    }
   ],
   "source": [
    "pip install matplotlib"
   ]
  },
  {
   "cell_type": "code",
   "execution_count": 1,
   "id": "f588bccb-b6fa-418e-ab9a-bc99bb27b3fb",
   "metadata": {},
   "outputs": [],
   "source": [
    "import openpyxl\n",
    "\n",
    "wb = openpyxl.Workbook()\n",
    "wb.save('Weight1.xlsx')"
   ]
  },
  {
   "cell_type": "code",
   "execution_count": 2,
   "id": "b7addd87-731a-4f5c-ac3f-6c03c2ff5a65",
   "metadata": {},
   "outputs": [],
   "source": [
    "import openpyxl\n",
    "\n",
    "wb = openpyxl.load_workbook('Weight.xlsx')\n",
    "sheet = wb.active\n",
    "c1 = sheet['A1']\n",
    "c1.value = 'Date'\n",
    "c1 = sheet['B1']\n",
    "c1.value = 'Time'\n",
    "c1 = sheet['C1']\n",
    "c1.value = 'Weight'\n",
    "wb.save('Weight1.xlsx')"
   ]
  },
  {
   "cell_type": "code",
   "execution_count": 1,
   "id": "aef68e1b-6a2d-4651-87cc-a513cbc230ad",
   "metadata": {},
   "outputs": [
    {
     "name": "stdin",
     "output_type": "stream",
     "text": [
      "Enter your weight at this moment:  111.5\n"
     ]
    }
   ],
   "source": [
    "from datetime import datetime\n",
    "import openpyxl\n",
    "import matplotlib.pyplot as py\n",
    "import pandas as pd\n",
    "\n",
    "wb = openpyxl.load_workbook('Weight1.xlsx')\n",
    "sheet = wb.active\n",
    "RightNow = datetime.now()\n",
    "str = datetime.isoformat(RightNow)\n",
    "lst = str.split('T')\n",
    "lst1 = lst[1].split('.')\n",
    "lst2 = [lst[0],lst1[0]]\n",
    "#print(lst1,'\\n',lst2)\n",
    "#print(lst)\n",
    "weight = float(input('Enter your weight at this moment: '))\n",
    "lst2.append(weight)\n",
    "#print(lst)\n",
    "sheet.append(lst2)\n",
    "sheet1 = pd.read_excel('Weight1.xlsx')\n",
    "#print(sheet1)\n",
    "xpoints = []\n",
    "ypoints = []\n",
    "for col in sheet1:\n",
    "    if col == 'Date':\n",
    "        xpoints.append(sheet1[col])\n",
    "    elif col == 'Weight':\n",
    "        ypoints.append(sheet1[col])\n",
    "#print(xpoints)\n",
    "wb.save('Weight1.xlsx')"
   ]
  },
  {
   "cell_type": "code",
   "execution_count": 3,
   "id": "96dfdc51-4f84-43c2-aa2d-726ae8e63a71",
   "metadata": {},
   "outputs": [
    {
     "name": "stdout",
     "output_type": "stream",
     "text": [
      "          Date      Time  Weight\n",
      "0   2025-06-02  01:58:19   111.8\n",
      "1   2025-06-02  23:32:34   112.3\n",
      "2   2025-06-02  23:47:02   111.0\n",
      "3   2025-06-02  23:47:30   111.0\n",
      "4   2025-06-02  23:48:48   112.0\n",
      "5   2025-06-02  23:49:32   113.0\n",
      "6   2025-06-02  23:49:51   114.0\n",
      "7   2025-06-02  23:50:14   115.0\n",
      "8   2025-08-19  17:52:42   111.5\n",
      "9   2025-08-19  17:53:41   111.5\n",
      "10  2025-08-19  17:55:32   111.5\n"
     ]
    }
   ],
   "source": [
    "import pandas as pd\n",
    "sheet = pd.read_excel('Weight1.xlsx')\n",
    "print(sheet)"
   ]
  },
  {
   "cell_type": "code",
   "execution_count": null,
   "id": "b972daa5-df73-4f09-af7b-bc51d3f35cf5",
   "metadata": {},
   "outputs": [],
   "source": []
  }
 ],
 "metadata": {
  "kernelspec": {
   "display_name": "Python 3 (ipykernel)",
   "language": "python",
   "name": "python3"
  },
  "language_info": {
   "codemirror_mode": {
    "name": "ipython",
    "version": 3
   },
   "file_extension": ".py",
   "mimetype": "text/x-python",
   "name": "python",
   "nbconvert_exporter": "python",
   "pygments_lexer": "ipython3",
   "version": "3.12.7"
  }
 },
 "nbformat": 4,
 "nbformat_minor": 5
}
