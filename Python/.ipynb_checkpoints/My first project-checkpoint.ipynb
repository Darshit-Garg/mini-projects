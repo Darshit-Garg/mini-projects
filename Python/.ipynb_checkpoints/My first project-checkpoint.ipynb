{
 "cells": [
  {
   "cell_type": "code",
   "execution_count": 2,
   "id": "822c7643-6a40-4955-b31a-1c2a8ecc4834",
   "metadata": {},
   "outputs": [
    {
     "name": "stdout",
     "output_type": "stream",
     "text": [
      "Sample Unicode 5\n"
     ]
    }
   ],
   "source": [
    "string = 5\n",
    "print(f\"Sample Unicode {string}\")"
   ]
  },
  {
   "cell_type": "code",
   "execution_count": null,
   "id": "1a6e6b05-7203-4000-804d-81fdaa1f1ddc",
   "metadata": {},
   "outputs": [],
   "source": [
    "rows = int(input(\"Enter rows: \")\n",
    "for i in range(1,rows):\n",
    "    print(' ',end='')\n",
    "    print("
   ]
  }
 ],
 "metadata": {
  "kernelspec": {
   "display_name": "Python 3 (ipykernel)",
   "language": "python",
   "name": "python3"
  },
  "language_info": {
   "codemirror_mode": {
    "name": "ipython",
    "version": 3
   },
   "file_extension": ".py",
   "mimetype": "text/x-python",
   "name": "python",
   "nbconvert_exporter": "python",
   "pygments_lexer": "ipython3",
   "version": "3.12.7"
  }
 },
 "nbformat": 4,
 "nbformat_minor": 5
}
