{
 "cells": [
  {
   "cell_type": "code",
   "execution_count": 5,
   "id": "6320cac0-fa31-49c1-b603-eaf6de9c32b4",
   "metadata": {},
   "outputs": [
    {
     "name": "stdin",
     "output_type": "stream",
     "text": [
      "Enter a number 456\n"
     ]
    },
    {
     "name": "stdout",
     "output_type": "stream",
     "text": [
      "654"
     ]
    }
   ],
   "source": [
    "n = input('Enter a number')\n",
    "length = len(n)\n",
    "sum = 0\n",
    "for i in range(length):\n",
    "    print(n[length-1-i],end = '')"
   ]
  },
  {
   "cell_type": "code",
   "execution_count": 1,
   "id": "e36a73b2-febe-4d36-821c-af9809e1fbea",
   "metadata": {},
   "outputs": [
    {
     "name": "stdout",
     "output_type": "stream",
     "text": [
      "2 3 4\n"
     ]
    }
   ],
   "source": [
    "#Keyword arguments\n",
    "def func(x,y,z):\n",
    "    print(x,y,z)\n",
    "func(y = 3, x = 2, z = 4 )"
   ]
  },
  {
   "cell_type": "code",
   "execution_count": 2,
   "id": "23f4899d-f95e-4c12-9336-b17a5b6f5e4c",
   "metadata": {},
   "outputs": [
    {
     "name": "stdout",
     "output_type": "stream",
     "text": [
      "3 2 4\n"
     ]
    }
   ],
   "source": [
    "#Required arguments\n",
    "def func(x,y,z):\n",
    "    print(x,y,z)\n",
    "func(3,2,4)"
   ]
  },
  {
   "cell_type": "code",
   "execution_count": 3,
   "id": "3f579e5e-99bb-4aa8-bf7d-5e7a7e331a35",
   "metadata": {},
   "outputs": [
    {
     "name": "stdout",
     "output_type": "stream",
     "text": [
      "3\n",
      "2\n",
      "4\n"
     ]
    }
   ],
   "source": [
    "#Variable Length Arguments\n",
    "def func(*x):\n",
    "    for i in x:\n",
    "        print(i)\n",
    "func(3,2,4)"
   ]
  },
  {
   "cell_type": "code",
   "execution_count": 7,
   "id": "68e815b9-7f7e-411c-b3c7-d43f982b6143",
   "metadata": {},
   "outputs": [
    {
     "name": "stdout",
     "output_type": "stream",
     "text": [
      "1 2 4\n"
     ]
    }
   ],
   "source": [
    "#Default arguments\n",
    "def func(x,y,z = 4):\n",
    "    print(x,y,z)\n",
    "func(1,2)\n",
    "#A default parameter can only come after the parameters without default values"
   ]
  },
  {
   "cell_type": "code",
   "execution_count": null,
   "id": "37e1aa0f-bd78-440c-92a8-daf8848f8963",
   "metadata": {},
   "outputs": [],
   "source": []
  }
 ],
 "metadata": {
  "kernelspec": {
   "display_name": "Python 3 (ipykernel)",
   "language": "python",
   "name": "python3"
  },
  "language_info": {
   "codemirror_mode": {
    "name": "ipython",
    "version": 3
   },
   "file_extension": ".py",
   "mimetype": "text/x-python",
   "name": "python",
   "nbconvert_exporter": "python",
   "pygments_lexer": "ipython3",
   "version": "3.12.7"
  }
 },
 "nbformat": 4,
 "nbformat_minor": 5
}
