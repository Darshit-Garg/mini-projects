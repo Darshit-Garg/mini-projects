{
 "cells": [
  {
   "cell_type": "code",
   "execution_count": 1,
   "id": "7eb5d240-e3f3-4b9d-b370-7550f182eadf",
   "metadata": {},
   "outputs": [
    {
     "name": "stdout",
     "output_type": "stream",
     "text": [
      "Requirement already satisfied: pandas in c:\\users\\inpixon\\anaconda3\\lib\\site-packages (2.2.2)\n",
      "Requirement already satisfied: numpy>=1.26.0 in c:\\users\\inpixon\\anaconda3\\lib\\site-packages (from pandas) (1.26.4)\n",
      "Requirement already satisfied: python-dateutil>=2.8.2 in c:\\users\\inpixon\\anaconda3\\lib\\site-packages (from pandas) (2.9.0.post0)\n",
      "Requirement already satisfied: pytz>=2020.1 in c:\\users\\inpixon\\anaconda3\\lib\\site-packages (from pandas) (2024.1)\n",
      "Requirement already satisfied: tzdata>=2022.7 in c:\\users\\inpixon\\anaconda3\\lib\\site-packages (from pandas) (2023.3)\n",
      "Requirement already satisfied: six>=1.5 in c:\\users\\inpixon\\anaconda3\\lib\\site-packages (from python-dateutil>=2.8.2->pandas) (1.16.0)\n",
      "Note: you may need to restart the kernel to use updated packages.\n"
     ]
    }
   ],
   "source": [
    "pip install pandas\n"
   ]
  },
  {
   "cell_type": "code",
   "execution_count": 8,
   "id": "a246a9bc-3219-4e0c-bd61-411d6b99da6a",
   "metadata": {},
   "outputs": [
    {
     "name": "stdin",
     "output_type": "stream",
     "text": [
      "Enter the number of students:  3\n",
      "Enter student id 1:  1\n",
      "marks 1: 1\n",
      "marks 2: 2\n",
      "marks 3: 3\n",
      "marks 4: 4\n",
      "Enter student id 2:  2\n",
      "marks 1: 2\n",
      "marks 2: 3\n",
      "marks 3: 4\n",
      "marks 4: 5\n",
      "Enter student id 3:  3\n",
      "marks 1: 3\n",
      "marks 2: 4\n",
      "marks 3: 5\n",
      "marks 4: 6\n"
     ]
    }
   ],
   "source": [
    "import pandas as pd\n",
    "n = int(input('Enter the number of students: '))\n",
    "dict = {}\n",
    "dict1 = {}\n",
    "Id = {}\n",
    "M1 = {}\n",
    "M2 = {}\n",
    "M3 = {}\n",
    "M4 = {}\n",
    "y = 0\n",
    "while (y<n) :\n",
    "    list = []\n",
    "    ID = input(f'Enter student id {y+1}: ')    \n",
    "    if ID in dict:\n",
    "        check = int(input('The id already exists, do you want to replace the exisiting data(0), or enter new id(1)?'))\n",
    "        if check==0:\n",
    "            for i in range(4):\n",
    "                marks = float(input(f'marks {i+1}:'))\n",
    "                list.append(marks)\n",
    "            dict[ID] = list\n",
    "            y-=1\n",
    "        else:\n",
    "            y-=1\n",
    "    else:\n",
    "        for i in range(4):\n",
    "            marks = float(input(f'marks {i+1}:'))\n",
    "            list.append(marks)\n",
    "        dict[ID] = list\n",
    "    dict1[]    \n",
    "    y+=1\n",
    "\n",
    "data = pd.DataFrame(dict)\n",
    "data.to_excel('student data.xlsx')"
   ]
  },
  {
   "cell_type": "code",
   "execution_count": null,
   "id": "92ab3883-eedd-4a52-be81-8846b4cbdfa6",
   "metadata": {},
   "outputs": [],
   "source": []
  }
 ],
 "metadata": {
  "kernelspec": {
   "display_name": "Python 3 (ipykernel)",
   "language": "python",
   "name": "python3"
  },
  "language_info": {
   "codemirror_mode": {
    "name": "ipython",
    "version": 3
   },
   "file_extension": ".py",
   "mimetype": "text/x-python",
   "name": "python",
   "nbconvert_exporter": "python",
   "pygments_lexer": "ipython3",
   "version": "3.12.7"
  }
 },
 "nbformat": 4,
 "nbformat_minor": 5
}
