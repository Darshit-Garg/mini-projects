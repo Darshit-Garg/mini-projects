{
 "cells": [
  {
   "cell_type": "code",
   "execution_count": 1,
   "id": "8cb2597e-23bd-46a7-aed8-f035704a5b76",
   "metadata": {},
   "outputs": [
    {
     "name": "stdout",
     "output_type": "stream",
     "text": [
      "Collecting gTTS\n",
      "  Downloading gTTS-2.5.4-py3-none-any.whl.metadata (4.1 kB)\n",
      "Requirement already satisfied: requests<3,>=2.27 in c:\\users\\inpixon\\anaconda3\\lib\\site-packages (from gTTS) (2.32.3)\n",
      "Requirement already satisfied: click<8.2,>=7.1 in c:\\users\\inpixon\\anaconda3\\lib\\site-packages (from gTTS) (8.1.7)\n",
      "Requirement already satisfied: colorama in c:\\users\\inpixon\\anaconda3\\lib\\site-packages (from click<8.2,>=7.1->gTTS) (0.4.6)\n",
      "Requirement already satisfied: charset-normalizer<4,>=2 in c:\\users\\inpixon\\anaconda3\\lib\\site-packages (from requests<3,>=2.27->gTTS) (3.3.2)\n",
      "Requirement already satisfied: idna<4,>=2.5 in c:\\users\\inpixon\\anaconda3\\lib\\site-packages (from requests<3,>=2.27->gTTS) (3.7)\n",
      "Requirement already satisfied: urllib3<3,>=1.21.1 in c:\\users\\inpixon\\anaconda3\\lib\\site-packages (from requests<3,>=2.27->gTTS) (2.2.3)\n",
      "Requirement already satisfied: certifi>=2017.4.17 in c:\\users\\inpixon\\anaconda3\\lib\\site-packages (from requests<3,>=2.27->gTTS) (2025.1.31)\n",
      "Downloading gTTS-2.5.4-py3-none-any.whl (29 kB)\n",
      "Installing collected packages: gTTS\n",
      "Successfully installed gTTS-2.5.4\n",
      "Note: you may need to restart the kernel to use updated packages.\n"
     ]
    }
   ],
   "source": [
    "pip install gTTS\n"
   ]
  },
  {
   "cell_type": "code",
   "execution_count": 5,
   "id": "6320cac0-fa31-49c1-b603-eaf6de9c32b4",
   "metadata": {},
   "outputs": [
    {
     "name": "stdin",
     "output_type": "stream",
     "text": [
      "Enter a number 456\n"
     ]
    },
    {
     "name": "stdout",
     "output_type": "stream",
     "text": [
      "654"
     ]
    }
   ],
   "source": [
    "n = input('Enter a number')\n",
    "length = len(n)\n",
    "sum = 0\n",
    "for i in range(length):\n",
    "    print(n[length-1-i],end = '')"
   ]
  },
  {
   "cell_type": "code",
   "execution_count": 1,
   "id": "e36a73b2-febe-4d36-821c-af9809e1fbea",
   "metadata": {},
   "outputs": [
    {
     "name": "stdout",
     "output_type": "stream",
     "text": [
      "2 3 4\n"
     ]
    }
   ],
   "source": [
    "#Keyword arguments\n",
    "def func(x,y,z):\n",
    "    print(x,y,z)\n",
    "func(y = 3, x = 2, z = 4 )"
   ]
  },
  {
   "cell_type": "code",
   "execution_count": 2,
   "id": "23f4899d-f95e-4c12-9336-b17a5b6f5e4c",
   "metadata": {},
   "outputs": [
    {
     "name": "stdout",
     "output_type": "stream",
     "text": [
      "3 2 4\n"
     ]
    }
   ],
   "source": [
    "#Required arguments\n",
    "def func(x,y,z):\n",
    "    print(x,y,z)\n",
    "func(3,2,4)"
   ]
  },
  {
   "cell_type": "code",
   "execution_count": 3,
   "id": "3f579e5e-99bb-4aa8-bf7d-5e7a7e331a35",
   "metadata": {},
   "outputs": [
    {
     "name": "stdout",
     "output_type": "stream",
     "text": [
      "3\n",
      "2\n",
      "4\n"
     ]
    }
   ],
   "source": [
    "#Variable Length Arguments\n",
    "def func(*x):\n",
    "    for i in x:\n",
    "        print(i)\n",
    "func(3,2,4)"
   ]
  },
  {
   "cell_type": "code",
   "execution_count": 7,
   "id": "68e815b9-7f7e-411c-b3c7-d43f982b6143",
   "metadata": {},
   "outputs": [
    {
     "name": "stdout",
     "output_type": "stream",
     "text": [
      "1 2 4\n"
     ]
    }
   ],
   "source": [
    "#Default arguments\n",
    "def func(x,y,z = 4):\n",
    "    print(x,y,z)\n",
    "func(1,2)\n",
    "#A default parameter can only come after the parameters without default values"
   ]
  },
  {
   "cell_type": "code",
   "execution_count": 2,
   "id": "37e1aa0f-bd78-440c-92a8-daf8848f8963",
   "metadata": {},
   "outputs": [
    {
     "name": "stdout",
     "output_type": "stream",
     "text": [
      "executed\n",
      "executed\n",
      "executed\n",
      "executed\n"
     ]
    }
   ],
   "source": [
    "for i in range(1,5,-1):\n",
    "    print('executed')"
   ]
  },
  {
   "cell_type": "code",
   "execution_count": 2,
   "id": "b55f40b4-89c8-476a-b45b-675d32606bb6",
   "metadata": {},
   "outputs": [
    {
     "name": "stdout",
     "output_type": "stream",
     "text": [
      "Aamir 1\n",
      "Abhishek 2\n",
      "Adithya 3\n"
     ]
    }
   ],
   "source": [
    "class student:\n",
    "    def __init__(self,name,roll_no):\n",
    "        self.name = name\n",
    "        self.roll_no = roll_no\n",
    "        print(name,roll_no)\n",
    "dict = {1:'Aamir',2:'Abhishek',3:'Adithya'}\n",
    "for roll,name in dict.items():\n",
    "    name = student(name,roll)"
   ]
  },
  {
   "cell_type": "code",
   "execution_count": null,
   "id": "1f408a42-77bd-4035-a055-ceb0b0c1f94c",
   "metadata": {},
   "outputs": [],
   "source": [
    "class ABC"
   ]
  },
  {
   "cell_type": "code",
   "execution_count": 2,
   "id": "d9457b21-fd61-4909-bfbf-94b098b6c2f5",
   "metadata": {},
   "outputs": [
    {
     "data": {
      "text/plain": [
       "0"
      ]
     },
     "execution_count": 2,
     "metadata": {},
     "output_type": "execute_result"
    }
   ],
   "source": [
    "from gtts import gTTS\n",
    "import os\n",
    "\n",
    "text = \"Hello, how can I help you?\"\n",
    "\n",
    "tts = gTTS(text=text, lang='hi')  # 'en' for English\n",
    "\n",
    "tts.save(\"output.mp3\")           # Save audio\n",
    "os.system(\"start output.mp3\")"
   ]
  },
  {
   "cell_type": "code",
   "execution_count": null,
   "id": "5b332969-6dc8-4e2d-801f-888116f2f70e",
   "metadata": {},
   "outputs": [],
   "source": []
  }
 ],
 "metadata": {
  "kernelspec": {
   "display_name": "Python 3 (ipykernel)",
   "language": "python",
   "name": "python3"
  },
  "language_info": {
   "codemirror_mode": {
    "name": "ipython",
    "version": 3
   },
   "file_extension": ".py",
   "mimetype": "text/x-python",
   "name": "python",
   "nbconvert_exporter": "python",
   "pygments_lexer": "ipython3",
   "version": "3.12.7"
  }
 },
 "nbformat": 4,
 "nbformat_minor": 5
}
